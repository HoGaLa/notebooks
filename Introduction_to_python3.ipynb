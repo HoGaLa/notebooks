{
 "cells": [
  {
   "cell_type": "markdown",
   "metadata": {
    "slideshow": {
     "slide_type": "slide"
    }
   },
   "source": [
    "# <center> Introduction to Python 3 </center>\n",
    "\n",
    "<br>\n",
    "<center>![2vs3](https://community-cdn-digitalocean-com.global.ssl.fastly.net/assets/tutorials/images/large/Python_2_vs_3.jpg?1480953022)</center>"
   ]
  },
  {
   "cell_type": "markdown",
   "metadata": {
    "slideshow": {
     "slide_type": "slide"
    }
   },
   "source": [
    "# What's new \n",
    "\n",
    "- A lot more than you might realize.\n",
    "- New syntax and keywords.\n",
    "- Additions to existing standard library modules, packages, classes, and functions.\n",
    "- A dozen completely new modules in the standard library.\n",
    "- Reliability improvements that eliminate hidden race conditions, enhance security, remove deterministic but surprising behaviors,\n",
    "- [https://docs.python.org/3/whatsnew/](https://docs.python.org/3/whatsnew/)"
   ]
  },
  {
   "cell_type": "markdown",
   "metadata": {
    "slideshow": {
     "slide_type": "slide"
    }
   },
   "source": [
    "# Unicode and bytes\n",
    "\n",
    "- In Python 2, str acts like bytes of data.\n",
    "\n",
    "- There is also unicode type to represent Unicode strings.\n",
    "\n",
    "- In Python 3, str is a string.\n",
    "\n",
    "- bytes are bytes.\n",
    "\n",
    "- There is no unicode. str strings are Unicode.\n",
    "\n",
    "- from `__future__` import unicode_literals"
   ]
  },
  {
   "cell_type": "code",
   "execution_count": 11,
   "metadata": {
    "slideshow": {
     "slide_type": "slide"
    }
   },
   "outputs": [
    {
     "name": "stdout",
     "output_type": "stream",
     "text": [
      "苹果派\n",
      "😁\n"
     ]
    }
   ],
   "source": [
    "# Unicode variable names (PEP 3131)\n",
    "\n",
    "import math\n",
    "\n",
    "def 加个派(fruit):\n",
    "    \"\"\" 英文差，不用怕 \"\"\"\n",
    "    π = \"派\"\n",
    "    return fruit + π\n",
    "\n",
    "print(加个派(\"苹果\"))\n",
    "\n",
    "开心 = \"😁\"\n",
    "print(开心)\n",
    "\n",
    "# 😔 = \"sad\"    # 但是不能用 emoji 表情"
   ]
  },
  {
   "cell_type": "code",
   "execution_count": 3,
   "metadata": {},
   "outputs": [
    {
     "name": "stdout",
     "output_type": "stream",
     "text": [
      "1.5\n"
     ]
    }
   ],
   "source": [
    "\"\"\" Division\n",
    "In Python 3, / is float division\n",
    "\n",
    "In Python 2, / is integer division (assuming int inputs), \n",
    "\n",
    "In both 2 and 3, // is integer division\n",
    "\"\"\"\n",
    "\n",
    "print(3 / 2)    # python2 use \"from __future__ import division\""
   ]
  },
  {
   "cell_type": "code",
   "execution_count": null,
   "metadata": {
    "slideshow": {
     "slide_type": "slide"
    }
   },
   "outputs": [],
   "source": [
    "# Function annotations (Python 3.5 (PEP 484))\n",
    "\n",
    "# Python doesn't do anything with the annotations other than put them in an\n",
    "# __annotations__ dictionary.\n",
    "\n",
    "def add(a: float, b: int = 1) -> float:\n",
    "    \"\"\" 函数注解不作真正的类型检查，只是为 IDE 等工具提供方便，可以增强类型提示功能 \"\"\"\n",
    "    return a + b\n",
    "\n",
    "add(42) \n",
    "\n",
    "print(add.__annotations__)\n",
    "\n",
    "# 如果想实现真正的类型检查，可以尝试下 \n",
    "# Mypy: Optional Static Typing for Python\n",
    "\n",
    "from typing import Iterator\n",
    "def fib(n: int) -> Iterator[int]:\n",
    "    a, b = 0, 1\n",
    "    while a < n:\n",
    "        yield a\n",
    "        a, b = b, a + b\n",
    "\n",
    "print(list(fib(10)))"
   ]
  },
  {
   "cell_type": "code",
   "execution_count": null,
   "metadata": {
    "collapsed": true,
    "slideshow": {
     "slide_type": "slide"
    }
   },
   "outputs": [],
   "source": [
    "# Streamlined super()\n",
    "\n",
    "import json\n",
    "class Config(object):\n",
    "    def __init__(self, config_dict):\n",
    "        self.data = config_dict\n",
    "\n",
    "class ClientConfig(Config):\n",
    "    def __init__(self, json_config_file):\n",
    "        with open(json_config_file) as fh:\n",
    "            data = json.load(fh)\n",
    "        super(ClientConfig, self).__init__(data)\n",
    "        \n",
    "class ClientConfig(Config):\n",
    "    def __init__(self, json_config_file):\n",
    "        with open(json_config_file) as fh:\n",
    "            data = json.load(fh)\n",
    "        super().__init__(data)  # <---- Shorter!"
   ]
  },
  {
   "cell_type": "code",
   "execution_count": 2,
   "metadata": {
    "slideshow": {
     "slide_type": "slide"
    }
   },
   "outputs": [
    {
     "name": "stdout",
     "output_type": "stream",
     "text": [
      "a: 0\n",
      "b: 1\n",
      "rest: [2, 3, 4, 5, 6, 7, 8, 9]\n",
      "a: 0\n",
      "b: 9\n",
      "rest: [1, 2, 3, 4, 5, 6, 7, 8]\n",
      "rest: [0, 1, 2, 3, 4, 5, 6, 7, 8]\n",
      "{'b': 2, 'a': 1}\n",
      "{'b': 2, 'c': 4, 'a': 3}\n"
     ]
    }
   ],
   "source": [
    "# Feature: Advanced unpacking\n",
    "\n",
    "a, b, *rest = range(10)\n",
    "print('a:', a)    # print 在 python 3 中成为函数\n",
    "print('b:', b)\n",
    "print('rest:', rest)\n",
    "\n",
    "a, *rest, b = range(10) \n",
    "print('a:', a)\n",
    "print('b:', b)\n",
    "print('rest:', rest)\n",
    " \n",
    "*rest, b = range(10)\n",
    "print('rest:', rest)\n",
    "\n",
    "with open(\"./2vs3.ipynb\") as f:\n",
    "    # 这样我们可以很 happy 地获取一个文件的首尾行\n",
    "    first, *_, last = f.readlines()\n",
    "    \n",
    "dict1 = {'a':1, 'b': 2}\n",
    "dict2 = {'a':3, 'c': 4}\n",
    "print({**dict1})\n",
    "print({**dict1, **dict2})    # 合并两个字典"
   ]
  },
  {
   "cell_type": "code",
   "execution_count": null,
   "metadata": {
    "slideshow": {
     "slide_type": "slide"
    }
   },
   "outputs": [],
   "source": [
    "# Feature: Keyword only arguments\n",
    "\n",
    "def f(a, b, *, option=True):\n",
    "    # 一定程度上避免 **kwargs 的使用，兼容 api \n",
    "    pass\n",
    "\n",
    "def sum(a, b, biteme=False):\n",
    "    if biteme:\n",
    "        shutil.rmtree('./')    # dangerous !!!\n",
    "    else:\n",
    "        return a + b\n",
    "    \n",
    "# sum(1, 2, 3)     # dangerous !!!\n",
    "\n",
    "def sum(a, b, *, biteme=False):\n",
    "    if biteme:\n",
    "        shutil.rmtree('./')    # dangerous !!!\n",
    "    else:\n",
    "        return a + b\n",
    "     \n",
    "sum(1, 2, biteme=False)\n",
    "sum(1, 2, False)    # 调用失败"
   ]
  },
  {
   "cell_type": "code",
   "execution_count": null,
   "metadata": {
    "slideshow": {
     "slide_type": "slide"
    }
   },
   "outputs": [],
   "source": [
    "# Chained exceptions\n",
    "\n",
    "import shutil\n",
    "\n",
    "def mycopy(source, dest):\n",
    "    try:\n",
    "        shutil.copy2(source, dest)\n",
    "    except OSError:  # python2 里 raise 会丢失原来的 traceback 信息\n",
    "        raise NotImplementedError(\"automatic sudo injection\") from OSError\n",
    "        \n",
    "        \n",
    "mycopy('old', 'new')\n"
   ]
  },
  {
   "cell_type": "markdown",
   "metadata": {
    "slideshow": {
     "slide_type": "slide"
    }
   },
   "source": [
    "# Everything is an iterator\n",
    "\n",
    "- In Python 3, range, zip, map, dict.values, etc. are all iterators. No xrange, dict.iteritems anymore.\n",
    "\n",
    "- If you want a list, just wrap the result with list.\n",
    "\n",
    "- Explicit is better than implicit.\n",
    "\n",
    "- Harder to write code that accidentally uses too much memory, because the input was bigger than you expected."
   ]
  },
  {
   "cell_type": "code",
   "execution_count": null,
   "metadata": {
    "slideshow": {
     "slide_type": "slide"
    }
   },
   "outputs": [],
   "source": [
    "# No more comparison of everything to everything\n",
    "# python2 里不同类型的值可以直接比较，结果比较诡异，同时可能会导致一些非预期结果\n",
    "\n",
    "42 < '42' and None > 1    # python3 不再支持不同类型数据比较，避免隐藏错误"
   ]
  },
  {
   "cell_type": "code",
   "execution_count": null,
   "metadata": {
    "slideshow": {
     "slide_type": "slide"
    }
   },
   "outputs": [],
   "source": [
    "# yield from\n",
    "\n",
    "def gen():\n",
    "    for i in range(10):\n",
    "        yield i\n",
    "\n",
    "def f():\n",
    "    for i in gen():  # python2 \n",
    "        yield i\n",
    "\n",
    "def f2():\n",
    "    yield from gen() # py3, easily refactor generators into subgenerators.\n",
    "   \n",
    "print(list(f()))\n",
    "print(list(f2()))\n",
    "\n",
    "\n",
    "def dup(n):\n",
    "    for i in range(n):\n",
    "        yield from (i, i)\n",
    "        \n",
    "print(list(dup(10)))"
   ]
  },
  {
   "cell_type": "code",
   "execution_count": null,
   "metadata": {
    "slideshow": {
     "slide_type": "slide"
    }
   },
   "outputs": [],
   "source": [
    "# asyncio — Asynchronous I/O, event loop, coroutines and tasks (new in 3.4)\n",
    "# https://docs.python.org/3/library/asyncio-task.html \n",
    "\n",
    "import asyncio\n",
    " \n",
    "@asyncio.coroutine\n",
    "def my_coroutine(task_name, seconds_to_sleep=3):\n",
    "    print('{0} sleeping for: {1} seconds'.format(task_name, seconds_to_sleep))\n",
    "    yield from asyncio.sleep(seconds_to_sleep)\n",
    "    print('{0} is finished'.format(task_name))\n",
    " \n",
    "loop = asyncio.new_event_loop()\n",
    "asyncio.set_event_loop(loop)\n",
    "\n",
    "tasks = [\n",
    "    my_coroutine('task1', 4),\n",
    "    my_coroutine('task2', 3),\n",
    "    my_coroutine('task3', 2)\n",
    "]\n",
    "loop.run_until_complete(asyncio.wait(tasks))\n",
    "loop.close()"
   ]
  },
  {
   "cell_type": "code",
   "execution_count": null,
   "metadata": {
    "slideshow": {
     "slide_type": "subslide"
    }
   },
   "outputs": [],
   "source": [
    "# aiohttp\n",
    "\n",
    "import asyncio\n",
    "import aiohttp\n",
    " \n",
    "@asyncio.coroutine\n",
    "def fetch_page(url):\n",
    "    response = yield from aiohttp.request('GET', url)\n",
    "    assert response.status == 200\n",
    "    content = yield from response.read()\n",
    "    print('URL: {0}:  Content-Length: {1}'.format(url, len(content)))\n",
    " \n",
    "loop = asyncio.new_event_loop() \n",
    "\n",
    "asyncio.set_event_loop(loop)\n",
    "tasks = [\n",
    "    fetch_page('http://www.zhihu.com'),\n",
    "    fetch_page('http://www.baidu.com'),\n",
    "    fetch_page('http://www.sohu.com'),\n",
    "    fetch_page('http://www.douban.com'),\n",
    "]\n",
    "loop.run_until_complete(asyncio.wait(tasks))\n",
    "loop.close()"
   ]
  },
  {
   "cell_type": "code",
   "execution_count": null,
   "metadata": {
    "slideshow": {
     "slide_type": "subslide"
    }
   },
   "outputs": [],
   "source": [
    "# python3.5 新增了 async/await 语法\n",
    "\n",
    "import asyncio\n",
    "import aiohttp\n",
    " \n",
    "async def fetch_page(url):\n",
    "    response = await aiohttp.request('GET', url)\n",
    "    assert response.status == 200\n",
    "    content = await response.read()\n",
    "    print('URL: {0}  Content-Length: {1}'.format(url, len(content)))\n",
    " \n",
    "loop = asyncio.new_event_loop()\n",
    "asyncio.set_event_loop(loop)\n",
    "\n",
    "tasks = [\n",
    "    fetch_page('http://www.zhihu.com'),\n",
    "    fetch_page('http://www.baidu.com'),\n",
    "    fetch_page('http://www.sohu.com'),\n",
    "    fetch_page('http://www.douban.com'),\n",
    "]\n",
    "loop.run_until_complete(asyncio.wait(tasks))\n",
    "loop.close()"
   ]
  },
  {
   "cell_type": "markdown",
   "metadata": {
    "slideshow": {
     "slide_type": "slide"
    }
   },
   "source": [
    "# Standard library additions\n",
    "\n",
    "- asyncio\n",
    "- ipaddress\n",
    "- functools.lru_cache\n",
    "- enum\n",
    "- pathlib\n",
    "- mock\n",
    "- concurrent.futures\n",
    "- math.isclose    # compare float number\n",
    "- lzma, for an improved compression compared to gzip\n",
    "- the `__pycache__` directory, that helps to avoid littering every other project folder with .pyc files\n"
   ]
  },
  {
   "cell_type": "markdown",
   "metadata": {
    "slideshow": {
     "slide_type": "slide"
    }
   },
   "source": [
    "# Can I use Python3\n",
    "\n",
    "- 历史遗留问题，目前使用 python3 的项目比较少\n",
    "- [http://py3readiness.org/](http://py3readiness.org/)，主流 python 库都已经支持 python3\n",
    "- 上一个项目用了 python3.5.2 + flask 全家桶，生产环境未见坑\n",
    "- Python 社区在 2020 年将停止维护 python2，社区正努力推进 python3\n",
    "- Django, IPython 宣布不久将停止 python2 支持\n",
    "- 新项目、小项目或者内部项目可以尝试下 python3\n",
    "- Today, services built on Python 3.5 using asyncio are widely used at Facebook."
   ]
  },
  {
   "cell_type": "code",
   "execution_count": 5,
   "metadata": {
    "slideshow": {
     "slide_type": "slide"
    }
   },
   "outputs": [
    {
     "data": {
      "image/jpeg": "[encoded data removed]",
      "text/html": [
       "\n",
       "        <iframe\n",
       "            width=\"400\"\n",
       "            height=\"300\"\n",
       "            src=\"https://www.youtube.com/embed/nRtp9NgtXiA\"\n",
       "            frameborder=\"0\"\n",
       "            allowfullscreen\n",
       "        ></iframe>\n",
       "        "
      ],
      "text/plain": [
       "<IPython.lib.display.YouTubeVideo at 0x10b9072e8>"
      ]
     },
     "execution_count": 5,
     "metadata": {},
     "output_type": "execute_result"
    }
   ],
   "source": [
    "\"\"\"\n",
    "Today, services built on Python 3.5 using asyncio are widely used at Facebook. \n",
    "But as recently as May of 2014 it was actually impossible to use Python 3 at Facebook. \n",
    "Come learn how we cut the Gordian Knot of dependencies and social aversion to the point where new services \n",
    "are now being written in Python 3 and existing codebases have plans to move to Python 3.5.\n",
    "\"\"\"\n",
    "from IPython.display import YouTubeVideo\n",
    "YouTubeVideo('nRtp9NgtXiA')"
   ]
  },
  {
   "cell_type": "markdown",
   "metadata": {
    "slideshow": {
     "slide_type": "slide"
    }
   },
   "source": [
    "# 编写 python2 和 python3 兼容代码\n",
    "\n",
    "- 可以尝试编写 2 和 3 兼容代码保证代码迁移\n",
    "- [six 模块](https://pythonhosted.org/six/)\n",
    "- [2to3 代码转换工具](https://docs.python.org/2/library/2to3.html)"
   ]
  },
  {
   "cell_type": "code",
   "execution_count": null,
   "metadata": {
    "collapsed": true,
    "slideshow": {
     "slide_type": "subslide"
    }
   },
   "outputs": [],
   "source": [
    "import six\n",
    "\n",
    "def dispatch_types(value):\n",
    "    if isinstance(value, six.integer_types):\n",
    "        handle_integer(value)\n",
    "    elif isinstance(value, six.class_types):\n",
    "        handle_class(value)\n",
    "    elif isinstance(value, six.string_types):\n",
    "        handle_string(value)\n",
    "\n",
    "\n",
    "from six import with_metaclass\n",
    "\n",
    "class Meta(type):\n",
    "    pass\n",
    "\n",
    "class Base(object):\n",
    "    pass\n",
    "\n",
    "class MyClass(with_metaclass(Meta, Base)):\n",
    "    pass"
   ]
  },
  {
   "cell_type": "markdown",
   "metadata": {
    "slideshow": {
     "slide_type": "slide"
    }
   },
   "source": [
    "# <center> Python3 大法好，退 Python2 保平安 </center>\n",
    "<br>\n",
    "<center>![2vs3](http://img.blog.csdn.net/20161222203627297?watermark/2/text/aHR0cDovL2Jsb2cuY3Nkbi5uZXQvbm9yYXdhbmdzaXl1/font/5a6L5L2T/fontsize/400/fill/I0JBQkFCMA==/dissolve/70/gravity/Center)</center>"
   ]
  },
  {
   "cell_type": "markdown",
   "metadata": {
    "slideshow": {
     "slide_type": "slide"
    }
   },
   "source": [
    "# 参考链接\n",
    "\n",
    "- [six](https://pythonhosted.org/six/)\n",
    "- [2to3](https://docs.python.org/2/library/2to3.html)\n",
    "- [diveintopython3](http://www.diveintopython3.net/)\n",
    "- [What's New In Python 3.5](https://docs.python.org/3/whatsnew/3.5.html)\n",
    "- [What's New In Python 3.6](https://docs.python.org/3/whatsnew/3.6.html)\n",
    "- [What's REALLY New in Python 3](https://powerfulpython.com/blog/whats-really-new-in-python-3/)\n",
    "- [Porting Code to Python 3 with 2to3](http://www.diveintopython3.net/porting-code-to-python-3-with-2to3.html)\n",
    "- [Simple Python Version Management: pyenv](https://github.com/pyenv/pyenv)"
   ]
  }
 ],
 "metadata": {
  "celltoolbar": "Slideshow",
  "kernelspec": {
   "display_name": "Python 3",
   "language": "python",
   "name": "python3"
  },
  "language_info": {
   "codemirror_mode": {
    "name": "ipython",
    "version": 3
   },
   "file_extension": ".py",
   "mimetype": "text/x-python",
   "name": "python",
   "nbconvert_exporter": "python",
   "pygments_lexer": "ipython3",
   "version": "3.5.2"
  }
 },
 "nbformat": 4,
 "nbformat_minor": 1
}
